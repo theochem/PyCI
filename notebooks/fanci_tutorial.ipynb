{
 "cells": [
  {
   "cell_type": "markdown",
   "metadata": {},
   "source": [
    "# FanCI Quickstart"
   ]
  },
  {
   "cell_type": "markdown",
   "metadata": {},
   "source": [
    "FanCI is a Python library for computing various post-Hartree-Fock methods\n",
    "(of the [*Flexible Ansätze for N-electron CI*](https://doi.org/10.1016/j.comptc.2021.113187), or \"FanCI\", type) using the [PyCI](www.github.com/PyCI/PyCI) library. The main objective of FanCI is to provide a simple and flexible framework to implement and test new CI methods. FanCI is not intended to be a high performance library, but rather a tool to test new ideas and methods."
   ]
  },
  {
   "cell_type": "markdown",
   "metadata": {},
   "source": [
    "## Supported FanCI methods\n",
    "\n",
    "FanCI wavefunctions can be based on the open-shell `fullci_wfn` class, the closed-shell `doci_wfn` class, or the generalized `genci_wfn` class of PyCI.\n",
    "\n",
    "In the following tutorial we will look at the following wavefunction models using **Be** as our toy model:\n",
    "* [AP1roG](https://doi.org/10.1021/ct300902c) (closed-shell)\n",
    "* [pCCD+S](https://doi.org/10.48550/arXiv.2310.01764) (open-shell)\n",
    "\n",
    "Other available methods include:\n",
    "\n",
    "##### Closed-shell\n",
    "* [APIG]()\n",
    "* [Determinant ratio]()\n",
    "\n",
    "##### Open-shell\n",
    "* [Determinant ratio]()"
   ]
  },
  {
   "attachments": {},
   "cell_type": "markdown",
   "metadata": {},
   "source": [
    "### Loading data and defining the Hamiltonian\n",
    "\n",
    "First, we need to load the integrals data from a quantum chemistry package. PyCI supports the use of files in the [FCIDUMP](https://doi.org/10.1016/0010-4655(89)90033-7) file format. The following code shows how to load the integrals from a FCIDUMP file and define the Hamiltonian."
   ]
  },
  {
   "cell_type": "code",
   "execution_count": 1,
   "metadata": {},
   "outputs": [],
   "source": [
    "# Import modules\n",
    "import pyci\n",
    "from pyci.fanci import AP1roG, pCCDS\n",
    "# optional\n",
    "import numpy as np\n",
    "from pyci.test import datafile\n",
    "\n",
    "# System information\n",
    "filename = datafile(\"lih_sto6g.fcidump\")\n",
    "ham = pyci.hamiltonian(filename)\n",
    "e_dict = {}"
   ]
  },
  {
   "cell_type": "markdown",
   "metadata": {},
   "source": [
    "### Computing reference (Hatree-Fock) energy\n",
    "\n",
    "The following code shows how to compute the reference (Hartree-Fock) energy (minus the constant (nuclear-nuclear repulsion) term) using the PyCI package."
   ]
  },
  {
   "cell_type": "code",
   "execution_count": 2,
   "metadata": {},
   "outputs": [],
   "source": [
    "# Get Hartree-Fock energy\n",
    "hf_wfn = pyci.doci_wfn(ham.nbasis, 2, 2)\n",
    "hf_wfn.add_hartreefock_det()\n",
    "hf_op = pyci.sparse_op(ham, hf_wfn)\n",
    "e_dict[\"HF\"] = hf_op.solve(n=1)[0][0] - ham.ecore"
   ]
  },
  {
   "cell_type": "markdown",
   "metadata": {},
   "source": [
    "### AP1roG\n",
    "\n",
    "The following code shows how to create an initial-guess array for the nonlinear FanCI parameters of the wavefunction. In the case of AP1roG, it is usually ok to leave the wavefunction parameters at zero. The last parameter, the energy, is set to the Hartree-Fock energy."
   ]
  },
  {
   "cell_type": "code",
   "execution_count": 3,
   "metadata": {},
   "outputs": [],
   "source": [
    "# Initialize AP1roG instance\n",
    "ap1rog = AP1roG(ham, 2)\n",
    "\n",
    "# Make initial guess\n",
    "ap1_params = np.zeros(ap1rog.nparam, dtype=pyci.c_double)\n",
    "ap1_params[-1] = e_dict[\"HF\"]"
   ]
  },
  {
   "cell_type": "markdown",
   "metadata": {},
   "source": [
    "One can use the built-in `optimize` method to optimize the wavefunction parameters using a SciPy optimizer. If one would like to use a different optimizer, the objective function and its Jacobian are available for use as `obj.compute_objective(x)` and `obj.compute_jacobian(x)`.\n",
    "\n",
    "Optimize the AP1roG wavefunction:"
   ]
  },
  {
   "cell_type": "code",
   "execution_count": 4,
   "metadata": {},
   "outputs": [],
   "source": [
    "# Optimize wavefunction\n",
    "ap1rog_results = ap1rog.optimize(ap1_params, use_jac=True)\n",
    "e_dict[\"AP1roG\"] = ap1rog_results.x[-1]"
   ]
  },
  {
   "cell_type": "markdown",
   "metadata": {},
   "source": [
    "### pCCD+S\n",
    "\n",
    "The following code shows how the optimized parameters from a simpler wavefunction (AP1roG) can be used as the initial guess to a more complicated and more accurate wavefunction (pCCD+S).\n",
    "\n",
    "Use the AP1roG wave function to generate an initial guess for the pCCD+S wave function; optimize it:"
   ]
  },
  {
   "cell_type": "code",
   "execution_count": 5,
   "metadata": {},
   "outputs": [],
   "source": [
    "# Initialize pCCD+S instance\n",
    "pccds = pCCDS(ham, 2, 2)\n",
    "\n",
    "# Make initial guess from AP1roG params\n",
    "pccds_params = np.zeros(pccds.nparam, dtype=pyci.c_double)\n",
    "pccds_params[:pccds.wfn.nocc_up * pccds.wfn.nvir_up] = ap1rog_results.x[:-1]\n",
    "pccds_params[-1] = ap1rog_results.x[-1]\n",
    "\n",
    "# Optimize wavefunction\n",
    "pccds_results = pccds.optimize(pccds_params, use_jac=False)\n",
    "e_dict[\"pCCD+S\"] = pccds_results.x[-1]"
   ]
  },
  {
   "cell_type": "markdown",
   "metadata": {},
   "source": [
    "### Compare results\n",
    "\n",
    "Compare the energies and verify that  $E_\\text{HF}$ > $E_\\text{AP1roG}$ > $E_\\text{pCCD+S}$:"
   ]
  },
  {
   "cell_type": "code",
   "execution_count": 6,
   "metadata": {},
   "outputs": [
    {
     "name": "stdout",
     "output_type": "stream",
     "text": [
      "  METHOD,           ENERGY\n",
      "      HF, -8.947289175e+00\n",
      "  AP1roG, -8.963531034e+00\n",
      "  pCCD+S, -8.963613544e+00\n"
     ]
    }
   ],
   "source": [
    "# Print energies from various methods\n",
    "print(f\"{'METHOD':>8s}, {'ENERGY':>16s}\")\n",
    "for name, energy in e_dict.items():\n",
    "    print(f\"{name:>8s}, {energy:>16.9e}\")"
   ]
  },
  {
   "cell_type": "markdown",
   "metadata": {},
   "source": [
    "### Computing reduced density matrices\n",
    "\n",
    "PyCI can be used to approximately evaluate the 1- and 2- electron reduced density matrices of the FanCI wavefunction object. For example, here we use a larger, although still much smaller than FullCI, projection space (seniority-(0,2) + excitation-(0,1,2,3) CI) over which to compute the CI coefficients $c_i = \\langle\\psi_i\\mid\\Psi_\\text{pCCD+S}\\rangle$, which are then used to approximately (but accurately) evaluate the pCCD+S RDMs in a reasonable manner."
   ]
  },
  {
   "cell_type": "code",
   "execution_count": 7,
   "metadata": {},
   "outputs": [],
   "source": [
    "# Make larger projection space over which to evaluate RDMs\n",
    "proj_wfn = pyci.fullci_wfn(ham.nbasis, 2, 2)\n",
    "# Add seniority- 0 and 2 determinants\n",
    "pyci.add_seniorities(proj_wfn, 0, 2)\n",
    "# Add singly, doubly, triply excited determinants\n",
    "pyci.add_excitations(proj_wfn, 0, 1, 2, 3)\n",
    "\n",
    "# Evaluate coefficients with optimized pCCD+S\n",
    "coeffs = pccds.compute_overlap(pccds_results.x[:-1], proj_wfn.to_occ_array())\n",
    "\n",
    "# Compute RDMs using larger projection space and pCCD+S coefficients\n",
    "d1, d2 = pyci.compute_rdms(proj_wfn, coeffs)\n",
    "rdm1, rdm2 = pyci.spinize_rdms(d1, d2)"
   ]
  },
  {
   "cell_type": "markdown",
   "metadata": {},
   "source": [
    "Validate the RDMs; ensure that  $\\text{tr}\\left(\\gamma\\right) \\approx n_\\text{elec}$  and that $\\frac{1}{2}\\sum_{pq}{\\Gamma_{pqpq}} \\approx n_\\text{pair}$:"
   ]
  },
  {
   "cell_type": "code",
   "execution_count": 8,
   "metadata": {},
   "outputs": [
    {
     "name": "stdout",
     "output_type": "stream",
     "text": [
      "Number of electrons = 4.1\n",
      "Number of pairs     = 6.1\n"
     ]
    }
   ],
   "source": [
    "# Validate the RDMs\n",
    "print(f\"Number of electrons = {np.trace(rdm1):.1f}\")\n",
    "print(f\"Number of pairs     = {np.einsum('pqpq', rdm2) / 2.0:.1f}\")"
   ]
  }
 ],
 "metadata": {
  "kernelspec": {
   "display_name": "Python 3 (ipykernel)",
   "language": "python",
   "name": "python3"
  },
  "language_info": {
   "codemirror_mode": {
    "name": "ipython",
    "version": 3
   },
   "file_extension": ".py",
   "mimetype": "text/x-python",
   "name": "python",
   "nbconvert_exporter": "python",
   "pygments_lexer": "ipython3",
   "version": "3.11.6"
  }
 },
 "nbformat": 4,
 "nbformat_minor": 4
}
