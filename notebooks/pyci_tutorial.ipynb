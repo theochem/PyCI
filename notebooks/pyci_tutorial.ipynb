{
 "cells": [
  {
   "cell_type": "markdown",
   "metadata": {},
   "source": [
    "# PyCI Tutorial"
   ]
  },
  {
   "cell_type": "markdown",
   "metadata": {},
   "source": [
    "PyCI is a flexible quantum chemistry Configuration Interaction library for Python 3.\n",
    "\n",
    "It supports pair-occupied spatial orbital (DOCI), orthogonal spin-orbital (FullCI), and generalized orbital (GenCI) wavefunction symmetries through its main classes:\n",
    "\n",
    "`pyci.doci_wfn`\n",
    "\n",
    "`pyci.fullci_wfn`\n",
    "\n",
    "`pyci.genci_wfn`\n",
    "\n",
    "Restricted and generalized Hamiltonians are explicitly supported with the main Hamiltonian class:\n",
    "\n",
    "`pyci.hamiltonian`\n",
    "\n",
    "Unrestricted Hamiltonians can be constructed as a special case of generalized Hamiltonian.\n",
    "\n",
    "Combined with routines to control the type of configurations added, according to their excitation level or seniority, PyCI offers the the ability to program any CI method.\n",
    "\n",
    "Here we will look at the following wavefunction models using **Be** as our toy model:\n",
    "* Full CI\n",
    "* CISD\n",
    "* GKCI\n",
    "* HCI\n",
    "* Seniority-truncated CI"
   ]
  },
  {
   "attachments": {},
   "cell_type": "markdown",
   "metadata": {},
   "source": [
    "Lets start showing how to run a Full CI calculation"
   ]
  },
  {
   "cell_type": "code",
   "execution_count": 1,
   "metadata": {},
   "outputs": [],
   "source": [
    "# Import modules\n",
    "\n",
    "import pyci\n",
    "# optional\n",
    "import numpy as np\n",
    "from pyci.test import datafile"
   ]
  },
  {
   "cell_type": "code",
   "execution_count": 2,
   "metadata": {},
   "outputs": [],
   "source": [
    "# System information\n",
    "filename = datafile(\"be_ccpvdz.fcidump\")\n",
    "occs = (2,2)\n",
    "ham = pyci.hamiltonian(filename)\n",
    "e_dict = {}"
   ]
  },
  {
   "cell_type": "code",
   "execution_count": 3,
   "metadata": {},
   "outputs": [],
   "source": [
    "# Make an empty wave function instance and add all possible determinants to it\n",
    "wfn = pyci.fullci_wfn(ham.nbasis, *occs)\n",
    "wfn.add_all_dets()\n",
    "# Solve the CI matrix problem\n",
    "op = pyci.sparse_op(ham, wfn)\n",
    "e_vals, e_vecs = op.solve(n=1, tol=1.0e-9)\n",
    "e_dict[\"Full-CI\"] = (len(wfn), e_vals[0])"
   ]
  },
  {
   "attachments": {},
   "cell_type": "markdown",
   "metadata": {},
   "source": [
    "Next we will see how to truncate the Full CI space based on excitation level or seniority number of the Slater determinants."
   ]
  },
  {
   "cell_type": "code",
   "execution_count": 4,
   "metadata": {},
   "outputs": [],
   "source": [
    "# Create a CISD wave function\n",
    "excitations = (0, 1, 2)\n",
    "wfn2 = pyci.fullci_wfn(ham.nbasis, *occs)\n",
    "pyci.add_excitations(wfn2, *excitations, ref=None)\n",
    "\n",
    "op = pyci.sparse_op(ham, wfn2)\n",
    "e_vals, e_vecs2 = op.solve(n=1, tol=1.0e-9)\n",
    "e_dict[\"CISD\"] = (len(wfn2), e_vals[0])"
   ]
  },
  {
   "cell_type": "code",
   "execution_count": 5,
   "metadata": {},
   "outputs": [],
   "source": [
    "# Defining a seniority truncated CI wave function\n",
    "seniorities = [0, 2]\n",
    "wfn3 = pyci.fullci_wfn(ham.nbasis, *occs)\n",
    "pyci.add_seniorities(wfn3, *seniorities)\n",
    "\n",
    "op = pyci.sparse_op(ham, wfn3)\n",
    "e_vals, e_vecs3 = op.solve(n=1, tol=1.0e-9)\n",
    "e_dict[\"SenTrunc-CI\"] = (len(wfn3), e_vals[0])"
   ]
  },
  {
   "attachments": {},
   "cell_type": "markdown",
   "metadata": {},
   "source": [
    "The Griebel-Knapeck and Heat-bath Configuration Interaction models are also supported in PyCI."
   ]
  },
  {
   "attachments": {},
   "cell_type": "markdown",
   "metadata": {},
   "source": [
    "* Griebel-Knapeck CI"
   ]
  },
  {
   "cell_type": "code",
   "execution_count": 6,
   "metadata": {},
   "outputs": [],
   "source": [
    "wfn4 = pyci.fullci_wfn(ham.nbasis, *occs)\n",
    "pyci.add_gkci(wfn4, t=-0.5, p=1.0, mode=\"cntsp\", dim=3, energies=None, width=None)\n",
    "\n",
    "op = pyci.sparse_op(ham, wfn4)\n",
    "e_vals, e_vecs4 = op.solve(n=1, tol=1.0e-9)\n",
    "e_dict[\"GKCI\"] = (len(wfn4), e_vals[0])"
   ]
  },
  {
   "cell_type": "markdown",
   "metadata": {},
   "source": [
    "* Heat Bath CI"
   ]
  },
  {
   "cell_type": "code",
   "execution_count": 7,
   "metadata": {},
   "outputs": [],
   "source": [
    "wfn5 = pyci.fullci_wfn(ham.nbasis, *occs)\n",
    "\n",
    "# Add Hartree-Fock determinant\n",
    "wfn5.add_hartreefock_det()\n",
    "dets_added = 1\n",
    "\n",
    "# Create CI matrix operator and initial Hartree-Fock solution\n",
    "op = pyci.sparse_op(ham, wfn5)\n",
    "e_vals, e_vecs5 = op.solve(n=1, tol=1.0e-9)\n",
    "\n",
    "# Run HCI iterations\n",
    "niter = 0\n",
    "eps = 5.0e-4\n",
    "while dets_added:\n",
    "    # Add connected determinants to wave function via HCI\n",
    "    dets_added = pyci.add_hci(ham, wfn5, e_vecs5[0], eps=eps)\n",
    "    # Update CI matrix operator\n",
    "    op.update(ham, wfn5)\n",
    "    # Solve CI matrix problem\n",
    "    e_vals, e_vecs5 = op.solve(n=1, tol=1.0e-9)\n",
    "    niter += 1\n",
    "e_dict[\"HCI\"] = (len(wfn5), e_vals[0])"
   ]
  },
  {
   "cell_type": "code",
   "execution_count": 8,
   "metadata": {},
   "outputs": [
    {
     "name": "stdout",
     "output_type": "stream",
     "text": [
      "Model               # Dets Energy [a.u.]\n",
      "Full-CI               8281  -14.61741\n",
      "CISD                   757  -14.61736\n",
      "SenTrunc-CI           2275  -14.61723\n",
      "GKCI                   169  -14.61684\n",
      "HCI                    282  -14.61740\n"
     ]
    }
   ],
   "source": [
    "print(f\"{'Model':<15} {'# Dets':>10} {'Energy [a.u.]':>10}\")\n",
    "for key in e_dict:\n",
    "    print(f\"{key:<15} {e_dict[key][0]:>10} {e_dict[key][1]:>10.5f}\")"
   ]
  },
  {
   "attachments": {},
   "cell_type": "markdown",
   "metadata": {},
   "source": [
    "Finally, we demostrate how to compute:\n",
    "- the overlap with the Full CI solution \n",
    "- the spin-resolved 1 and 2-RDMs"
   ]
  },
  {
   "cell_type": "code",
   "execution_count": 9,
   "metadata": {},
   "outputs": [
    {
     "name": "stdout",
     "output_type": "stream",
     "text": [
      "<FCI|FCI>  = 1.00000\n",
      "<CISD|FCI> = 1.00000\n",
      "<SCI|FCI>  = -0.99998\n",
      "<GKCI|FCI> = 0.99995\n",
      "<HCI|FCI>  = 1.00000\n"
     ]
    }
   ],
   "source": [
    "ovl = pyci.compute_overlap(wfn, wfn, e_vecs, e_vecs)\n",
    "ovl2 = pyci.compute_overlap(wfn2, wfn, e_vecs2, e_vecs)\n",
    "ovl3 = pyci.compute_overlap(wfn3, wfn, e_vecs3, e_vecs)\n",
    "ovl4 = pyci.compute_overlap(wfn4, wfn, e_vecs4, e_vecs)\n",
    "ovl5 = pyci.compute_overlap(wfn5, wfn, e_vecs5, e_vecs)\n",
    "\n",
    "print(f\"<FCI|FCI>  = {ovl:.5f}\")\n",
    "print(f\"<CISD|FCI> = {ovl2:.5f}\")\n",
    "print(f\"<SCI|FCI>  = {ovl3:.5f}\")\n",
    "print(f\"<GKCI|FCI> = {ovl4:.5f}\")\n",
    "print(f\"<HCI|FCI>  = {ovl5:.5f}\")"
   ]
  },
  {
   "cell_type": "code",
   "execution_count": 10,
   "metadata": {},
   "outputs": [
    {
     "name": "stdout",
     "output_type": "stream",
     "text": [
      "Number of electrons = 4.0\n",
      "Number of pairs     = 6.0\n"
     ]
    }
   ],
   "source": [
    "d1, d2 = pyci.compute_rdms(wfn5, e_vecs5[0])\n",
    "rdm1, rdm2 = pyci.spinize_rdms(d1, d2)\n",
    "\n",
    "nelec = np.trace(rdm1)\n",
    "npairs = np.einsum('pqpq', rdm2) / 2.0\n",
    "\n",
    "print(f\"Number of electrons = {nelec:.1f}\")\n",
    "print(f\"Number of pairs     = {npairs:.1f}\")"
   ]
  }
 ],
 "metadata": {
  "kernelspec": {
   "display_name": "Python 3 (ipykernel)",
   "language": "python",
   "name": "python3"
  },
  "language_info": {
   "codemirror_mode": {
    "name": "ipython",
    "version": 3
   },
   "file_extension": ".py",
   "mimetype": "text/x-python",
   "name": "python",
   "nbconvert_exporter": "python",
   "pygments_lexer": "ipython3",
   "version": "3.11.6"
  }
 },
 "nbformat": 4,
 "nbformat_minor": 4
}
