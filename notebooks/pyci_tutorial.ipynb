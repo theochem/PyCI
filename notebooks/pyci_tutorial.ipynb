{
 "cells": [
  {
   "cell_type": "markdown",
   "metadata": {},
   "source": [
    "# PyCI Quickstart\n",
    "\n",
    "PyCI is a flexible quantum chemistry Configuration Interaction library for Python 3. The main objective of PyCI is to provide a simple and flexible framework to implement and test new CI methods. PyCI is not intended to be a high performance library, but rather a tool to test new ideas and methods."
   ]
  },
  {
   "cell_type": "markdown",
   "metadata": {},
   "source": [
    "## Supported CI methods\n",
    "\n",
    "Through its main classes, [PyCI](www.github.com/PyCI/PyCI) supports the pair-occupied spatial orbital [`doci_wfn`](), orthogonal spin-orbital [`fullci_wfn`](), and generalized orbital [`genci_wfn`]() wavefunction symmetries. The package also supports the use of the restricted and generalized Hamiltonians (unrestricted Hamiltonians can be constructed as a special case of generalized Hamiltonian). These features, combined with routines to control the type of configurations added, according to their excitation level or seniority, allows the user to easily program any CI method.\n",
    "\n",
    "In the following tutorial we will look at the following wavefunction models using **Be** as our toy model:\n",
    "* Full CI\n",
    "* CISD\n",
    "* GKCI\n",
    "* HCI\n",
    "* Seniority-truncated CI"
   ]
  },
  {
   "cell_type": "markdown",
   "metadata": {},
   "source": [
    "### Loading data and defining the Hamiltonian\n",
    "\n",
    "First, we need to load the integrals data from a quantum chemistry package. PyCI supports the use of files in the [FCIDUMP](https://doi.org/10.1016/0010-4655(89)90033-7) file format. The following code shows how to load the integrals from a FCIDUMP file and define the [`hamiltonian`]() object."
   ]
  },
  {
   "cell_type": "code",
   "execution_count": 1,
   "metadata": {},
   "outputs": [],
   "source": [
    "import pyci\n",
    "import numpy as np\n",
    "from pyci.test import datafile  # optional, data file location for tests\n",
    "\n",
    "# load system information\n",
    "filename = datafile(\"be_ccpvdz.fcidump\")\n",
    "occs = (2,2)                        # (alpha, beta) occupation numbers\n",
    "ham = pyci.hamiltonian(filename)    # initialize second-quantized operator instance\n",
    "e_dict = {}"
   ]
  },
  {
   "cell_type": "markdown",
   "metadata": {},
   "source": [
    "### Computing reference (Hatree-Fock) energy\n",
    "The following code shows how to compute the reference (Hartree-Fock) energy using the PyCI package."
   ]
  },
  {
   "cell_type": "code",
   "execution_count": 2,
   "metadata": {},
   "outputs": [
    {
     "name": "stdout",
     "output_type": "stream",
     "text": [
      "Ground state wave function: HF\n",
      "Number of determinants: 1\n",
      "Energy: -14.572337630953388\n"
     ]
    }
   ],
   "source": [
    "# contruct empty fci wave function class instance from # of basis functions and occupation\n",
    "wfn0 = pyci.fullci_wfn(ham.nbasis, *occs)\n",
    "wfn0.add_hartreefock_det()        # add Hartree-Fock determinant to wave function\n",
    "\n",
    "# initialize sparse matrix operator (hamiltonian into wave function)\n",
    "op = pyci.sparse_op(ham, wfn0)\n",
    "\n",
    "# solve for the lowest eigenvalue and eigenvector\n",
    "e_vals, e_vecs0 = op.solve(n=1, tol=1.0e-9)\n",
    "e_dict[\"HF\"] = (len(wfn0), e_vals[0])\n",
    "\n",
    "print(\"Ground state wave function: HF\")\n",
    "print(\"Number of determinants: {}\".format(len(wfn0)))\n",
    "print(\"Energy: {}\".format(e_vals[0]))\n"
   ]
  },
  {
   "attachments": {},
   "cell_type": "markdown",
   "metadata": {},
   "source": [
    "### Full CI\n",
    "\n",
    "Once the integrals are loaded, in the `hamiltonian` object, PyCI offers a simple and flexible framework to implement any CI method following the next steps:\n",
    "1. Define the wavefunction model (the configurations to be included in the wavefunction).\n",
    "2. Find the representation of the Hamiltonian in the selected configuration space.\n",
    "3. Obtain the desired eigenvalues and eigenvectors of the Hamiltonian.\n",
    "\n",
    "The Full CI method gives the exact solution of the electronic Schrödinger equation within a given basis set. It is given by the linear combination of all possible configurations in a given basis set. The following code shows how to define a Full CI wavefunction and compute the energy for the lowest singlet state of the beryllium atom.\n"
   ]
  },
  {
   "cell_type": "code",
   "execution_count": 3,
   "metadata": {},
   "outputs": [
    {
     "name": "stdout",
     "output_type": "stream",
     "text": [
      "Ground state wave function: Full CI\n",
      "Number of determinants: 8281\n",
      "Full CI energy: -14.61740951 a.u.\n"
     ]
    }
   ],
   "source": [
    "\n",
    "wfn1 = pyci.fullci_wfn(ham.nbasis, *occs) \n",
    "wfn1.add_all_dets()                          # add all determinants to the wave function\n",
    "\n",
    "# Solve the CI matrix problem\n",
    "op = pyci.sparse_op(ham, wfn1)    \n",
    "\n",
    "e_vals, e_vecs1 = op.solve(n=1, tol=1.0e-9)\n",
    "e_dict[\"Full-CI\"] = (len(wfn1), e_vals[0])\n",
    "\n",
    "print(\"Ground state wave function: Full CI\")\n",
    "print(f\"Number of determinants: {len(wfn1)}\")\n",
    "print(f\"Full CI energy: {e_vals[0]:.8f} a.u.\")"
   ]
  },
  {
   "cell_type": "markdown",
   "metadata": {},
   "source": [
    "### CISD\n",
    "\n",
    "The CISD method is a truncated version of the Full CI method that includes all single and double excitations. These calculations can be achieved by truncating the Full CI space to the subset of single and double excitations. The following code shows how to define a CISD wavefunction and compute the energy for the lowest singlet state of the beryllium atom."
   ]
  },
  {
   "cell_type": "code",
   "execution_count": 4,
   "metadata": {},
   "outputs": [
    {
     "name": "stdout",
     "output_type": "stream",
     "text": [
      "Ground state wave function: CISD\n",
      "Number of determinants: 757\n",
      "CISD energy: -14.61735579 a.u.\n"
     ]
    }
   ],
   "source": [
    "# Create a CISD wave function\n",
    "excitations = (0, 1, 2)     # excitations to include (0 = reference, 1 = single, 2 = double)\n",
    "wfn2 = pyci.fullci_wfn(ham.nbasis, *occs)\n",
    "pyci.add_excitations(wfn2, *excitations, ref=None)\n",
    "\n",
    "op = pyci.sparse_op(ham, wfn2)\n",
    "e_vals, e_vecs2 = op.solve(n=1, tol=1.0e-9)\n",
    "e_dict[\"CISD\"] = (len(wfn2), e_vals[0])\n",
    "\n",
    "print(\"Ground state wave function: CISD\")\n",
    "print(f\"Number of determinants: {len(wfn2)}\")\n",
    "print(f\"CISD energy: {e_vals[0]:.8f} a.u.\")"
   ]
  },
  {
   "attachments": {},
   "cell_type": "markdown",
   "metadata": {},
   "source": [
    "### Seniority-truncated CI\n",
    "\n",
    "Another way to truncate the Full CI space is by truncating the space according to the seniority quantum number. The seniority quantum number is defined as the number of unpaired electrons in a given configuration. The following code shows how to define a seniority-truncated (0,2) CI wavefunction and compute the energy for the lowest singlet state of the beryllium atom."
   ]
  },
  {
   "cell_type": "code",
   "execution_count": 5,
   "metadata": {},
   "outputs": [
    {
     "name": "stdout",
     "output_type": "stream",
     "text": [
      "Ground state wave function: Seniority Truncated CI (0,2)\n",
      "Number of determinants: 2275\n",
      "Seniority Truncated CI energy: -14.61722574 a.u.\n"
     ]
    }
   ],
   "source": [
    "# Defining a seniority truncated CI wave function\n",
    "seniorities = [0, 2]\n",
    "wfn3 = pyci.fullci_wfn(ham.nbasis, *occs)\n",
    "pyci.add_seniorities(wfn3, *seniorities)\n",
    "\n",
    "op = pyci.sparse_op(ham, wfn3)\n",
    "e_vals, e_vecs3 = op.solve(n=1, tol=1.0e-9)\n",
    "e_dict[\"SenTrunc-CI\"] = (len(wfn3), e_vals[0])\n",
    "\n",
    "print(\"Ground state wave function: Seniority Truncated CI (0,2)\")\n",
    "print(f\"Number of determinants: {len(wfn3)}\")\n",
    "print(f\"Seniority Truncated CI energy: {e_vals[0]:.8f} a.u.\")"
   ]
  },
  {
   "attachments": {},
   "cell_type": "markdown",
   "metadata": {},
   "source": [
    "### Griebel-Knapeck CI (GKCI)\n",
    "\n",
    "The [Griebel-Knapeck CI](https://www.sciencedirect.com/science/article/pii/S2210271X18304250) method is a CI method which tries to include the determinants such that the CI truncation error is equal to the basis set truncation error. For this, the selection of the determinants to include in the expansion is based on a cost function. The following code shows how to define a GKCI wavefunction and compute the energy for the lowest singlet state of the beryllium atom."
   ]
  },
  {
   "cell_type": "code",
   "execution_count": 6,
   "metadata": {},
   "outputs": [
    {
     "name": "stdout",
     "output_type": "stream",
     "text": [
      "Ground state wave function: Generalized Seniority Truncated CI (t=-0.5, p=1.0)\n",
      "Number of determinants: 169\n",
      "Generalized Seniority Truncated CI energy: -14.61684259 a.u.\n"
     ]
    }
   ],
   "source": [
    "wfn4 = pyci.fullci_wfn(ham.nbasis, *occs)\n",
    "pyci.add_gkci(wfn4, t=-0.5, p=1.0, mode=\"cntsp\", dim=3, energies=None, width=None)\n",
    "\n",
    "op = pyci.sparse_op(ham, wfn4)\n",
    "e_vals, e_vecs4 = op.solve(n=1, tol=1.0e-9)\n",
    "e_dict[\"GKCI\"] = (len(wfn4), e_vals[0])\n",
    "\n",
    "print(\"Ground state wave function: Generalized Seniority Truncated CI (t=-0.5, p=1.0)\")\n",
    "print(f\"Number of determinants: {len(wfn4)}\")\n",
    "print(f\"Generalized Seniority Truncated CI energy: {e_vals[0]:.8f} a.u.\")"
   ]
  },
  {
   "cell_type": "markdown",
   "metadata": {},
   "source": [
    "### Heat Bath CI\n",
    "\n",
    "The [Heat Bath CI]() starts with the Hartree-Fock determinant then use a sampling method to generate determinants connected to the HF determinant with a Hamiltonian matrix element larger than a given threshold. The algorithm is repeated until convergence, each time using the lowest eigenvalue in the selected subspace as the new reference determinant. The following code shows how to define a Heat Bath CI wavefunction and compute the energy for the lowest singlet state of the beryllium atom."
   ]
  },
  {
   "cell_type": "code",
   "execution_count": 7,
   "metadata": {},
   "outputs": [
    {
     "name": "stdout",
     "output_type": "stream",
     "text": [
      "Ground state wave function: HCI\n",
      "Number of determinants: 282\n",
      "HCI energy: -14.61740392 a.u.\n",
      "Number of iterations used: 4\n"
     ]
    }
   ],
   "source": [
    "wfn5 = pyci.fullci_wfn(ham.nbasis, *occs)\n",
    "\n",
    "# Add Hartree-Fock determinant\n",
    "wfn5.add_hartreefock_det()\n",
    "dets_added = 1\n",
    "\n",
    "# Create CI matrix operator and initial Hartree-Fock solution\n",
    "op = pyci.sparse_op(ham, wfn5)\n",
    "e_vals, e_vecs5 = op.solve(n=1, tol=1.0e-9)\n",
    "\n",
    "# Run HCI iterations\n",
    "niter = 0\n",
    "eps = 5.0e-4\n",
    "while dets_added:\n",
    "    # Add connected determinants to wave function via HCI\n",
    "    dets_added = pyci.add_hci(ham, wfn5, e_vecs5[0], eps=eps)\n",
    "    # Update CI matrix operator\n",
    "    op.update(ham, wfn5)\n",
    "    # Solve CI matrix problem\n",
    "    e_vals, e_vecs5 = op.solve(n=1, tol=1.0e-9)\n",
    "    niter += 1\n",
    "e_dict[\"HCI\"] = (len(wfn5), e_vals[0])\n",
    "\n",
    "print(\"Ground state wave function: HCI\")\n",
    "print(f\"Number of determinants: {len(wfn5)}\")\n",
    "print(f\"HCI energy: {e_vals[0]:.8f} a.u.\")\n",
    "print(f\"Number of iterations used: {niter}\")\n"
   ]
  },
  {
   "cell_type": "markdown",
   "metadata": {},
   "source": [
    "The following code shows the performance of all the methods discussed in this tutorial in recovering the correlation energy of the beryllium atom."
   ]
  },
  {
   "cell_type": "code",
   "execution_count": 8,
   "metadata": {},
   "outputs": [
    {
     "name": "stdout",
     "output_type": "stream",
     "text": [
      "Model               # Dets Energy [a.u.] E_corr [%]\n",
      "HF                       1  -14.57234      -0.00%\n",
      "Full-CI               8281  -14.61741     100.00%\n",
      "CISD                   757  -14.61736      99.88%\n",
      "SenTrunc-CI           2275  -14.61723      99.59%\n",
      "GKCI                   169  -14.61684      98.74%\n",
      "HCI                    282  -14.61740      99.99%\n"
     ]
    }
   ],
   "source": [
    "max_corr = e_dict[\"Full-CI\"][1] - e_dict[\"HF\"][1]\n",
    "e_ref = e_dict[\"HF\"][1]\n",
    "\n",
    "print(f\"{'Model':<15} {'# Dets':>10} {'Energy [a.u.]':>10} {'E_corr [%]':>10}\")\n",
    "for key in e_dict:\n",
    "    print(f\"{key:<15} {e_dict[key][0]:>10} {e_dict[key][1]:>10.5f} {100*(e_dict[key][1]-e_ref)/max_corr:>10.2f}%\")"
   ]
  },
  {
   "cell_type": "markdown",
   "metadata": {},
   "source": [
    "### Overlap matrix\n",
    "\n",
    "`PyCI` also provides a simple framework to compute the overlap matrix between two wavefunction objects. The following code shows how to compute the overlap matrix between the different wavefunction models discussed in this tutorial."
   ]
  },
  {
   "cell_type": "code",
   "execution_count": 9,
   "metadata": {},
   "outputs": [
    {
     "name": "stdout",
     "output_type": "stream",
     "text": [
      "<HF|FCI>   =  0.95238\n",
      "<FCI|FCI>  = 1.00000\n",
      "<CISD|FCI> = 1.00000\n",
      "<SCI|FCI>  = -0.99998\n",
      "<GKCI|FCI> = 0.99995\n",
      "<HCI|FCI>  = 1.00000\n"
     ]
    }
   ],
   "source": [
    "ovl0 = pyci.compute_overlap(wfn0, wfn1, e_vecs0, e_vecs1)\n",
    "ovl1 = pyci.compute_overlap(wfn1, wfn1, e_vecs1, e_vecs1)\n",
    "ovl2 = pyci.compute_overlap(wfn2, wfn1, e_vecs2, e_vecs1)\n",
    "ovl3 = pyci.compute_overlap(wfn3, wfn1, e_vecs3, e_vecs1)\n",
    "ovl4 = pyci.compute_overlap(wfn4, wfn1, e_vecs4, e_vecs1)\n",
    "ovl5 = pyci.compute_overlap(wfn5, wfn1, e_vecs5, e_vecs1)\n",
    "\n",
    "print(f\"<HF|FCI>   =  {ovl0:.5f}\")\n",
    "print(f\"<FCI|FCI>  = {ovl1:.5f}\")\n",
    "print(f\"<CISD|FCI> = {ovl2:.5f}\")\n",
    "print(f\"<SCI|FCI>  = {ovl3:.5f}\")\n",
    "print(f\"<GKCI|FCI> = {ovl4:.5f}\")\n",
    "print(f\"<HCI|FCI>  = {ovl5:.5f}\")"
   ]
  },
  {
   "cell_type": "markdown",
   "metadata": {},
   "source": [
    "### Computing reduced density matrices\n",
    "\n",
    "`PyCI` also provides a way to compute the reduced density matrices for a given wavefunction object. The following code shows how to compute the one- and two-particle reduced density matrices for the Full CI wavefunction of the beryllium atom."
   ]
  },
  {
   "cell_type": "code",
   "execution_count": 10,
   "metadata": {},
   "outputs": [
    {
     "name": "stdout",
     "output_type": "stream",
     "text": [
      "RDM1:\n",
      "Shape = (28, 28)\n",
      "Number of electrons = 4.0\n",
      "RDM2:\n",
      "Shape = (28, 28, 28, 28)\n",
      "Number of electron pairs = 6.0\n"
     ]
    }
   ],
   "source": [
    "d1, d2 = pyci.compute_rdms(wfn5, e_vecs5[0])\n",
    "rdm1, rdm2 = pyci.spinize_rdms(d1, d2)\n",
    "\n",
    "print(\"RDM1:\")\n",
    "print(f\"Shape = {rdm1.shape}\")\n",
    "print(f\"Number of electrons = {np.trace(rdm1):.1f}\")\n",
    "\n",
    "\n",
    "print(\"RDM2:\")\n",
    "print(f\"Shape = {rdm2.shape}\")\n",
    "print(f\"Number of electron pairs = {np.einsum('pqpq', rdm2) / 2.0:.1f}\")\n"
   ]
  }
 ],
 "metadata": {
  "kernelspec": {
   "display_name": "Python 3 (ipykernel)",
   "language": "python",
   "name": "python3"
  },
  "language_info": {
   "codemirror_mode": {
    "name": "ipython",
    "version": 3
   },
   "file_extension": ".py",
   "mimetype": "text/x-python",
   "name": "python",
   "nbconvert_exporter": "python",
   "pygments_lexer": "ipython3",
   "version": "3.11.6"
  }
 },
 "nbformat": 4,
 "nbformat_minor": 4
}
